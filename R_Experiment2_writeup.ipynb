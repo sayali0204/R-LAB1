{
  "nbformat": 4,
  "nbformat_minor": 0,
  "metadata": {
    "colab": {
      "name": "Copy of R_Experiment2_writeup.ipynb",
      "provenance": [],
      "collapsed_sections": []
    },
    "kernelspec": {
      "name": "ir",
      "display_name": "R"
    }
  },
  "cells": [
    {
      "cell_type": "markdown",
      "metadata": {
        "id": "ID8ytqkhyQUI"
      },
      "source": [
        "\n",
        "**Vectors R Programming**\n",
        "\n",
        "The simplest and most common data structure in R is the vector. Vectors come in two different flavors: atomic vectors and lists. An atomic vector contains exactly one data type, whereas a list may contain multiple data types.\n",
        "\n",
        "Atomic vectors include logical, character, integer, and complex. Logical vectors can contain the values TRUE, FALSE, and NA (for 'not available').These values are generated as the result of logical 'conditions'.\n",
        "\n",
        "Complet following couple of code cell to genearate a logical vector in variable logic_vect\n"
      ]
    },
    {
      "cell_type": "code",
      "metadata": {
        "id": "vmxkWCwVaTsu",
        "colab": {
          "base_uri": "https://localhost:8080/",
          "height": 35
        },
        "outputId": "e7fd0088-9c96-4955-dc7c-f10d298c97b7"
      },
      "source": [
        "# Create a vector num_vect with values -100, 0.55, 45, 5466\n",
        "num_vect<-c(-100,0.55,45,5466)\n",
        "num_vect"
      ],
      "execution_count": 1,
      "outputs": [
        {
          "output_type": "display_data",
          "data": {
            "text/plain": [
              "[1] -100.00    0.55   45.00 5466.00"
            ],
            "text/latex": "\\begin{enumerate*}\n\\item -100\n\\item 0.55\n\\item 45\n\\item 5466\n\\end{enumerate*}\n",
            "text/markdown": "1. -100\n2. 0.55\n3. 45\n4. 5466\n\n\n",
            "text/html": [
              "<style>\n",
              ".list-inline {list-style: none; margin:0; padding: 0}\n",
              ".list-inline>li {display: inline-block}\n",
              ".list-inline>li:not(:last-child)::after {content: \"\\00b7\"; padding: 0 .5ex}\n",
              "</style>\n",
              "<ol class=list-inline><li>-100</li><li>0.55</li><li>45</li><li>5466</li></ol>\n"
            ]
          },
          "metadata": {
            "tags": []
          }
        }
      ]
    },
    {
      "cell_type": "code",
      "metadata": {
        "id": "eB193NZhaTxX"
      },
      "source": [
        "#Now, create a variable called logic_vect that gets the result of num_vect <= 0.55, which is read as 'num_vect is less than 0.55'.\n",
        "logic_vect <- num_vect <= 0.55\n"
      ],
      "execution_count": 2,
      "outputs": []
    },
    {
      "cell_type": "markdown",
      "metadata": {
        "id": "Wjk_ipkRbIEQ"
      },
      "source": [
        "If you print logic_vect. you will see that is is a logical vector with 4 values. Print logic_vect in cell below to verify it "
      ]
    },
    {
      "cell_type": "code",
      "metadata": {
        "id": "daPof3CfbYJl",
        "colab": {
          "base_uri": "https://localhost:8080/",
          "height": 35
        },
        "outputId": "d96aec92-e89d-47f7-c31c-a5300b3e84b1"
      },
      "source": [
        "#print logic_vect\r\n",
        "logic_vect"
      ],
      "execution_count": 3,
      "outputs": [
        {
          "output_type": "display_data",
          "data": {
            "text/plain": [
              "[1]  TRUE  TRUE FALSE FALSE"
            ],
            "text/latex": "\\begin{enumerate*}\n\\item TRUE\n\\item TRUE\n\\item FALSE\n\\item FALSE\n\\end{enumerate*}\n",
            "text/markdown": "1. TRUE\n2. TRUE\n3. FALSE\n4. FALSE\n\n\n",
            "text/html": [
              "<style>\n",
              ".list-inline {list-style: none; margin:0; padding: 0}\n",
              ".list-inline>li {display: inline-block}\n",
              ".list-inline>li:not(:last-child)::after {content: \"\\00b7\"; padding: 0 .5ex}\n",
              "</style>\n",
              "<ol class=list-inline><li>TRUE</li><li>TRUE</li><li>FALSE</li><li>FALSE</li></ol>\n"
            ]
          },
          "metadata": {
            "tags": []
          }
        }
      ]
    },
    {
      "cell_type": "code",
      "metadata": {
        "id": "ZJRGCFsRbluA",
        "colab": {
          "base_uri": "https://localhost:8080/",
          "height": 35
        },
        "outputId": "4612faa7-dea0-40fc-fbd0-5ccdf2ee9133"
      },
      "source": [
        "#Type num_vect >= 6 and note the output\r\n",
        "num_vect >= 6"
      ],
      "execution_count": 4,
      "outputs": [
        {
          "output_type": "display_data",
          "data": {
            "text/plain": [
              "[1] FALSE FALSE  TRUE  TRUE"
            ],
            "text/latex": "\\begin{enumerate*}\n\\item FALSE\n\\item FALSE\n\\item TRUE\n\\item TRUE\n\\end{enumerate*}\n",
            "text/markdown": "1. FALSE\n2. FALSE\n3. TRUE\n4. TRUE\n\n\n",
            "text/html": [
              "<style>\n",
              ".list-inline {list-style: none; margin:0; padding: 0}\n",
              ".list-inline>li {display: inline-block}\n",
              ".list-inline>li:not(:last-child)::after {content: \"\\00b7\"; padding: 0 .5ex}\n",
              "</style>\n",
              "<ol class=list-inline><li>FALSE</li><li>FALSE</li><li>TRUE</li><li>TRUE</li></ol>\n"
            ]
          },
          "metadata": {
            "tags": []
          }
        }
      ]
    },
    {
      "cell_type": "markdown",
      "metadata": {
        "id": "ykWXOe7kbbCH"
      },
      "source": [
        "Character vectors\n",
        "\n",
        "Character vectors are also very common in R. Double quotes are used to distinguish character objects."
      ]
    },
    {
      "cell_type": "code",
      "metadata": {
        "id": "Y5By5YrKcKLV"
      },
      "source": [
        "# Create a character vector that contains the following words: \"My\", \"name\", \"is\". \n",
        "#Remember to enclose each word in its own set of double quotes, \n",
        "#so that R knows they are character strings. Store the vector in a variable called char_vect.\n",
        "\n",
        "char_vect <- c(\"My\", \"name\", \"is\")\n"
      ],
      "execution_count": 5,
      "outputs": []
    },
    {
      "cell_type": "code",
      "metadata": {
        "id": "fCs9xH65dXqF",
        "colab": {
          "base_uri": "https://localhost:8080/",
          "height": 35
        },
        "outputId": "ab102490-3f1d-4496-fcc2-a0a567d18b81"
      },
      "source": [
        "# print the char_vect\r\n",
        "char_vect"
      ],
      "execution_count": 6,
      "outputs": [
        {
          "output_type": "display_data",
          "data": {
            "text/plain": [
              "[1] \"My\"   \"name\" \"is\"  "
            ],
            "text/latex": "\\begin{enumerate*}\n\\item 'My'\n\\item 'name'\n\\item 'is'\n\\end{enumerate*}\n",
            "text/markdown": "1. 'My'\n2. 'name'\n3. 'is'\n\n\n",
            "text/html": [
              "<style>\n",
              ".list-inline {list-style: none; margin:0; padding: 0}\n",
              ".list-inline>li {display: inline-block}\n",
              ".list-inline>li:not(:last-child)::after {content: \"\\00b7\"; padding: 0 .5ex}\n",
              "</style>\n",
              "<ol class=list-inline><li>'My'</li><li>'name'</li><li>'is'</li></ol>\n"
            ]
          },
          "metadata": {
            "tags": []
          }
        }
      ]
    },
    {
      "cell_type": "code",
      "metadata": {
        "id": "wqFk1eWDdaej",
        "colab": {
          "base_uri": "https://localhost:8080/",
          "height": 35
        },
        "outputId": "7f49baf4-0917-450b-8e2c-1169d19a319e"
      },
      "source": [
        "#use paste(char_vect, collapse=\" \")\n",
        "paste(char_vect,collapse=\" \")\n"
      ],
      "execution_count": 7,
      "outputs": [
        {
          "output_type": "display_data",
          "data": {
            "text/plain": [
              "[1] \"My name is\""
            ],
            "text/latex": "'My name is'",
            "text/markdown": "'My name is'",
            "text/html": [
              "'My name is'"
            ]
          },
          "metadata": {
            "tags": []
          }
        }
      ]
    },
    {
      "cell_type": "markdown",
      "metadata": {
        "id": "U6zErBTNdkjS"
      },
      "source": [
        "Explain What difference you see in above two code blocks\n",
        "\n",
        " In the first block, char_vect is a character vector with length 3. In the second block, elements of the char_vect are joined together in one continuous character string using paste() function. now in the second box char_vect is a character vector with length 1."
      ]
    },
    {
      "cell_type": "code",
      "metadata": {
        "id": "bb8VxwW6eq4I",
        "colab": {
          "base_uri": "https://localhost:8080/",
          "height": 35
        },
        "outputId": "8be9671e-57ec-4ec7-e2c6-3db8a0b38596"
      },
      "source": [
        "# add your name as an element to char_vect and paste complete sentence saying \"My name is <your name>\"\n",
        "char_vect <- c(char_vect,\"Dyaneshwari\")\n",
        "paste(char_vect, collapse = \" \")"
      ],
      "execution_count": 8,
      "outputs": [
        {
          "output_type": "display_data",
          "data": {
            "text/plain": [
              "[1] \"My name is Dyaneshwari\""
            ],
            "text/latex": "'My name is Dyaneshwari'",
            "text/markdown": "'My name is Dyaneshwari'",
            "text/html": [
              "'My name is Dyaneshwari'"
            ]
          },
          "metadata": {
            "tags": []
          }
        }
      ]
    },
    {
      "cell_type": "code",
      "metadata": {
        "id": "2On4I2KFffCo",
        "colab": {
          "base_uri": "https://localhost:8080/",
          "height": 35
        },
        "outputId": "1ae49897-5684-433f-8d20-796a4727ffba"
      },
      "source": [
        "#Execute this code block\n",
        "paste(\"Hello\",\"World!\",collapse=\" \")"
      ],
      "execution_count": 9,
      "outputs": [
        {
          "output_type": "display_data",
          "data": {
            "text/plain": [
              "[1] \"Hello World!\""
            ],
            "text/latex": "'Hello World!'",
            "text/markdown": "'Hello World!'",
            "text/html": [
              "'Hello World!'"
            ]
          },
          "metadata": {
            "tags": []
          }
        }
      ]
    },
    {
      "cell_type": "markdown",
      "metadata": {
        "id": "Ix0RGNhYfk5M"
      },
      "source": [
        "Explaination: collapse argument with function paste explains that we can join elements of the chaarctor vector seperated by single spaces."
      ]
    },
    {
      "cell_type": "code",
      "metadata": {
        "id": "UG8NGPx4fq01",
        "colab": {
          "base_uri": "https://localhost:8080/",
          "height": 35
        },
        "outputId": "66f8c386-9e42-4997-d4f9-4937826c4e0d"
      },
      "source": [
        "#Execute this \n",
        "paste(1:3, c(\"X\", \"Y\", \"Z\"), sep = \":\")"
      ],
      "execution_count": 10,
      "outputs": [
        {
          "output_type": "display_data",
          "data": {
            "text/plain": [
              "[1] \"1:X\" \"2:Y\" \"3:Z\""
            ],
            "text/latex": "\\begin{enumerate*}\n\\item '1:X'\n\\item '2:Y'\n\\item '3:Z'\n\\end{enumerate*}\n",
            "text/markdown": "1. '1:X'\n2. '2:Y'\n3. '3:Z'\n\n\n",
            "text/html": [
              "<style>\n",
              ".list-inline {list-style: none; margin:0; padding: 0}\n",
              ".list-inline>li {display: inline-block}\n",
              ".list-inline>li:not(:last-child)::after {content: \"\\00b7\"; padding: 0 .5ex}\n",
              "</style>\n",
              "<ol class=list-inline><li>'1:X'</li><li>'2:Y'</li><li>'3:Z'</li></ol>\n"
            ]
          },
          "metadata": {
            "tags": []
          }
        }
      ]
    },
    {
      "cell_type": "markdown",
      "metadata": {
        "id": "VwpVLBj8qvPs"
      },
      "source": [
        "\r\n",
        "Explain output of above code block \r\n",
        "\r\n",
        "Ans: 2 vectors, both of size 3. First has elements (1,2,3) and second (\"X\",\"Y\",\"Z\"). When paste() is used it prints elements of both with iteration. sep=\":\" seperates both values with \":\"."
      ]
    },
    {
      "cell_type": "code",
      "metadata": {
        "id": "dfigEt5CgidD",
        "colab": {
          "base_uri": "https://localhost:8080/",
          "height": 35
        },
        "outputId": "123ca60a-ce1b-4ec8-8700-fb019e1f14ab"
      },
      "source": [
        "#Executes this LETTERS is \n",
        "paste(LETTERS, 1:10, sep = \"-\")"
      ],
      "execution_count": 11,
      "outputs": [
        {
          "output_type": "display_data",
          "data": {
            "text/plain": [
              " [1] \"A-1\"  \"B-2\"  \"C-3\"  \"D-4\"  \"E-5\"  \"F-6\"  \"G-7\"  \"H-8\"  \"I-9\"  \"J-10\"\n",
              "[11] \"K-1\"  \"L-2\"  \"M-3\"  \"N-4\"  \"O-5\"  \"P-6\"  \"Q-7\"  \"R-8\"  \"S-9\"  \"T-10\"\n",
              "[21] \"U-1\"  \"V-2\"  \"W-3\"  \"X-4\"  \"Y-5\"  \"Z-6\" "
            ],
            "text/latex": "\\begin{enumerate*}\n\\item 'A-1'\n\\item 'B-2'\n\\item 'C-3'\n\\item 'D-4'\n\\item 'E-5'\n\\item 'F-6'\n\\item 'G-7'\n\\item 'H-8'\n\\item 'I-9'\n\\item 'J-10'\n\\item 'K-1'\n\\item 'L-2'\n\\item 'M-3'\n\\item 'N-4'\n\\item 'O-5'\n\\item 'P-6'\n\\item 'Q-7'\n\\item 'R-8'\n\\item 'S-9'\n\\item 'T-10'\n\\item 'U-1'\n\\item 'V-2'\n\\item 'W-3'\n\\item 'X-4'\n\\item 'Y-5'\n\\item 'Z-6'\n\\end{enumerate*}\n",
            "text/markdown": "1. 'A-1'\n2. 'B-2'\n3. 'C-3'\n4. 'D-4'\n5. 'E-5'\n6. 'F-6'\n7. 'G-7'\n8. 'H-8'\n9. 'I-9'\n10. 'J-10'\n11. 'K-1'\n12. 'L-2'\n13. 'M-3'\n14. 'N-4'\n15. 'O-5'\n16. 'P-6'\n17. 'Q-7'\n18. 'R-8'\n19. 'S-9'\n20. 'T-10'\n21. 'U-1'\n22. 'V-2'\n23. 'W-3'\n24. 'X-4'\n25. 'Y-5'\n26. 'Z-6'\n\n\n",
            "text/html": [
              "<style>\n",
              ".list-inline {list-style: none; margin:0; padding: 0}\n",
              ".list-inline>li {display: inline-block}\n",
              ".list-inline>li:not(:last-child)::after {content: \"\\00b7\"; padding: 0 .5ex}\n",
              "</style>\n",
              "<ol class=list-inline><li>'A-1'</li><li>'B-2'</li><li>'C-3'</li><li>'D-4'</li><li>'E-5'</li><li>'F-6'</li><li>'G-7'</li><li>'H-8'</li><li>'I-9'</li><li>'J-10'</li><li>'K-1'</li><li>'L-2'</li><li>'M-3'</li><li>'N-4'</li><li>'O-5'</li><li>'P-6'</li><li>'Q-7'</li><li>'R-8'</li><li>'S-9'</li><li>'T-10'</li><li>'U-1'</li><li>'V-2'</li><li>'W-3'</li><li>'X-4'</li><li>'Y-5'</li><li>'Z-6'</li></ol>\n"
            ]
          },
          "metadata": {
            "tags": []
          }
        }
      ]
    },
    {
      "cell_type": "markdown",
      "metadata": {
        "id": "A_IqnCE6rHer"
      },
      "source": [
        "Explain output of above code block\r\n",
        "\r\n",
        "Explaination: here, charactor vector LETTERS is longer than numeric vector 1:10. so R simply repeats the 1:10 until it matches length of the charactor vector."
      ]
    },
    {
      "cell_type": "markdown",
      "metadata": {
        "id": "oaWD-k-4qNOV"
      },
      "source": [
        "**Write R code to Solve Following**\n",
        "1.   To begin with create a vecor **a** of 20 random values from Std Normal Variable.\n",
        "2.   Creat another vector **b** of 20 NA values. Also create vector x\n",
        "3.   Sample 20 values from above two vectors. \n",
        "4.   Subset  10th to 15th element from x to generate sample y\n",
        "5.   Count NAs in vector x and y         "
      ]
    },
    {
      "cell_type": "markdown",
      "metadata": {
        "id": "PXtnX3pV7xmy"
      },
      "source": [
        "1. To begin with create a vecor a of 20 random values from Std Normal Variable."
      ]
    },
    {
      "cell_type": "code",
      "metadata": {
        "colab": {
          "base_uri": "https://localhost:8080/",
          "height": 69
        },
        "id": "AZtQlkUK8JnX",
        "outputId": "d71b0725-8051-43d4-9bd7-b076120c02d9"
      },
      "source": [
        "a <- rnorm(20)\r\n",
        "a"
      ],
      "execution_count": 12,
      "outputs": [
        {
          "output_type": "display_data",
          "data": {
            "text/plain": [
              " [1] -0.37701163 -1.78158931  0.25801106 -1.46625409  1.14806080 -0.13939922\n",
              " [7]  1.51994790  0.99654280  0.76674206 -0.41215391  1.06769112 -0.67395872\n",
              "[13]  2.52285943 -0.09158744 -0.18552856  0.25110118 -0.37328609 -1.24985010\n",
              "[19] -1.11394625  0.54806708"
            ],
            "text/latex": "\\begin{enumerate*}\n\\item -0.377011632800255\n\\item -1.78158930973992\n\\item 0.258011059785948\n\\item -1.46625408613275\n\\item 1.14806079677794\n\\item -0.139399215873527\n\\item 1.51994790347517\n\\item 0.996542797220813\n\\item 0.766742064963577\n\\item -0.412153906380003\n\\item 1.06769111916773\n\\item -0.673958720248895\n\\item 2.5228594259389\n\\item -0.0915874369747139\n\\item -0.185528561247012\n\\item 0.251101183073858\n\\item -0.373286093765701\n\\item -1.2498501013886\n\\item -1.1139462546646\n\\item 0.548067076256067\n\\end{enumerate*}\n",
            "text/markdown": "1. -0.377011632800255\n2. -1.78158930973992\n3. 0.258011059785948\n4. -1.46625408613275\n5. 1.14806079677794\n6. -0.139399215873527\n7. 1.51994790347517\n8. 0.996542797220813\n9. 0.766742064963577\n10. -0.412153906380003\n11. 1.06769111916773\n12. -0.673958720248895\n13. 2.5228594259389\n14. -0.0915874369747139\n15. -0.185528561247012\n16. 0.251101183073858\n17. -0.373286093765701\n18. -1.2498501013886\n19. -1.1139462546646\n20. 0.548067076256067\n\n\n",
            "text/html": [
              "<style>\n",
              ".list-inline {list-style: none; margin:0; padding: 0}\n",
              ".list-inline>li {display: inline-block}\n",
              ".list-inline>li:not(:last-child)::after {content: \"\\00b7\"; padding: 0 .5ex}\n",
              "</style>\n",
              "<ol class=list-inline><li>-0.377011632800255</li><li>-1.78158930973992</li><li>0.258011059785948</li><li>-1.46625408613275</li><li>1.14806079677794</li><li>-0.139399215873527</li><li>1.51994790347517</li><li>0.996542797220813</li><li>0.766742064963577</li><li>-0.412153906380003</li><li>1.06769111916773</li><li>-0.673958720248895</li><li>2.5228594259389</li><li>-0.0915874369747139</li><li>-0.185528561247012</li><li>0.251101183073858</li><li>-0.373286093765701</li><li>-1.2498501013886</li><li>-1.1139462546646</li><li>0.548067076256067</li></ol>\n"
            ]
          },
          "metadata": {
            "tags": []
          }
        }
      ]
    },
    {
      "cell_type": "markdown",
      "metadata": {
        "id": "5rxVNCEB8AWG"
      },
      "source": [
        "2. Creat another vector b of 20 NA values. Also create vector x"
      ]
    },
    {
      "cell_type": "code",
      "metadata": {
        "colab": {
          "base_uri": "https://localhost:8080/",
          "height": 35
        },
        "id": "Qu9QUqwV8h4H",
        "outputId": "739e3418-ed76-4789-acbf-7294cf92bd3b"
      },
      "source": [
        "b <- rep(NA, 20)\r\n",
        " b"
      ],
      "execution_count": 13,
      "outputs": [
        {
          "output_type": "display_data",
          "data": {
            "text/plain": [
              " [1] NA NA NA NA NA NA NA NA NA NA NA NA NA NA NA NA NA NA NA NA"
            ],
            "text/latex": "\\begin{enumerate*}\n\\item <NA>\n\\item <NA>\n\\item <NA>\n\\item <NA>\n\\item <NA>\n\\item <NA>\n\\item <NA>\n\\item <NA>\n\\item <NA>\n\\item <NA>\n\\item <NA>\n\\item <NA>\n\\item <NA>\n\\item <NA>\n\\item <NA>\n\\item <NA>\n\\item <NA>\n\\item <NA>\n\\item <NA>\n\\item <NA>\n\\end{enumerate*}\n",
            "text/markdown": "1. &lt;NA&gt;\n2. &lt;NA&gt;\n3. &lt;NA&gt;\n4. &lt;NA&gt;\n5. &lt;NA&gt;\n6. &lt;NA&gt;\n7. &lt;NA&gt;\n8. &lt;NA&gt;\n9. &lt;NA&gt;\n10. &lt;NA&gt;\n11. &lt;NA&gt;\n12. &lt;NA&gt;\n13. &lt;NA&gt;\n14. &lt;NA&gt;\n15. &lt;NA&gt;\n16. &lt;NA&gt;\n17. &lt;NA&gt;\n18. &lt;NA&gt;\n19. &lt;NA&gt;\n20. &lt;NA&gt;\n\n\n",
            "text/html": [
              "<style>\n",
              ".list-inline {list-style: none; margin:0; padding: 0}\n",
              ".list-inline>li {display: inline-block}\n",
              ".list-inline>li:not(:last-child)::after {content: \"\\00b7\"; padding: 0 .5ex}\n",
              "</style>\n",
              "<ol class=list-inline><li>&lt;NA&gt;</li><li>&lt;NA&gt;</li><li>&lt;NA&gt;</li><li>&lt;NA&gt;</li><li>&lt;NA&gt;</li><li>&lt;NA&gt;</li><li>&lt;NA&gt;</li><li>&lt;NA&gt;</li><li>&lt;NA&gt;</li><li>&lt;NA&gt;</li><li>&lt;NA&gt;</li><li>&lt;NA&gt;</li><li>&lt;NA&gt;</li><li>&lt;NA&gt;</li><li>&lt;NA&gt;</li><li>&lt;NA&gt;</li><li>&lt;NA&gt;</li><li>&lt;NA&gt;</li><li>&lt;NA&gt;</li><li>&lt;NA&gt;</li></ol>\n"
            ]
          },
          "metadata": {
            "tags": []
          }
        }
      ]
    },
    {
      "cell_type": "markdown",
      "metadata": {
        "id": "YyrpvlH-9Fdb"
      },
      "source": [
        "3. Sample 20 values from above two vectors."
      ]
    },
    {
      "cell_type": "code",
      "metadata": {
        "colab": {
          "base_uri": "https://localhost:8080/",
          "height": 52
        },
        "id": "f2IltcXo8rQL",
        "outputId": "924120d3-b469-4bf1-dccf-c7f40b132a2f"
      },
      "source": [
        "x <- c(a,b)\r\n",
        "\r\n",
        "x <- sample(x, 20 , replace= FALSE)\r\n",
        "x"
      ],
      "execution_count": 14,
      "outputs": [
        {
          "output_type": "display_data",
          "data": {
            "text/plain": [
              " [1]          NA -0.41215391          NA          NA          NA  1.51994790\n",
              " [7]          NA -1.11394625  0.25110118          NA          NA -0.09158744\n",
              "[13]          NA  2.52285943 -0.67395872          NA          NA -1.24985010\n",
              "[19]          NA  0.54806708"
            ],
            "text/latex": "\\begin{enumerate*}\n\\item <NA>\n\\item -0.412153906380003\n\\item <NA>\n\\item <NA>\n\\item <NA>\n\\item 1.51994790347517\n\\item <NA>\n\\item -1.1139462546646\n\\item 0.251101183073858\n\\item <NA>\n\\item <NA>\n\\item -0.0915874369747139\n\\item <NA>\n\\item 2.5228594259389\n\\item -0.673958720248895\n\\item <NA>\n\\item <NA>\n\\item -1.2498501013886\n\\item <NA>\n\\item 0.548067076256067\n\\end{enumerate*}\n",
            "text/markdown": "1. &lt;NA&gt;\n2. -0.412153906380003\n3. &lt;NA&gt;\n4. &lt;NA&gt;\n5. &lt;NA&gt;\n6. 1.51994790347517\n7. &lt;NA&gt;\n8. -1.1139462546646\n9. 0.251101183073858\n10. &lt;NA&gt;\n11. &lt;NA&gt;\n12. -0.0915874369747139\n13. &lt;NA&gt;\n14. 2.5228594259389\n15. -0.673958720248895\n16. &lt;NA&gt;\n17. &lt;NA&gt;\n18. -1.2498501013886\n19. &lt;NA&gt;\n20. 0.548067076256067\n\n\n",
            "text/html": [
              "<style>\n",
              ".list-inline {list-style: none; margin:0; padding: 0}\n",
              ".list-inline>li {display: inline-block}\n",
              ".list-inline>li:not(:last-child)::after {content: \"\\00b7\"; padding: 0 .5ex}\n",
              "</style>\n",
              "<ol class=list-inline><li>&lt;NA&gt;</li><li>-0.412153906380003</li><li>&lt;NA&gt;</li><li>&lt;NA&gt;</li><li>&lt;NA&gt;</li><li>1.51994790347517</li><li>&lt;NA&gt;</li><li>-1.1139462546646</li><li>0.251101183073858</li><li>&lt;NA&gt;</li><li>&lt;NA&gt;</li><li>-0.0915874369747139</li><li>&lt;NA&gt;</li><li>2.5228594259389</li><li>-0.673958720248895</li><li>&lt;NA&gt;</li><li>&lt;NA&gt;</li><li>-1.2498501013886</li><li>&lt;NA&gt;</li><li>0.548067076256067</li></ol>\n"
            ]
          },
          "metadata": {
            "tags": []
          }
        }
      ]
    },
    {
      "cell_type": "markdown",
      "metadata": {
        "id": "nKy245Q69joQ"
      },
      "source": [
        "4. Subset 10th to 15th element from x to generate sample y"
      ]
    },
    {
      "cell_type": "code",
      "metadata": {
        "colab": {
          "base_uri": "https://localhost:8080/",
          "height": 35
        },
        "id": "u9qnHj0f9YTN",
        "outputId": "7a7e6279-f628-4c4b-a4f5-0dd632ddf3f7"
      },
      "source": [
        "y <- x[10:15]\r\n",
        "y"
      ],
      "execution_count": 15,
      "outputs": [
        {
          "output_type": "display_data",
          "data": {
            "text/plain": [
              "[1]          NA          NA -0.09158744          NA  2.52285943 -0.67395872"
            ],
            "text/latex": "\\begin{enumerate*}\n\\item <NA>\n\\item <NA>\n\\item -0.0915874369747139\n\\item <NA>\n\\item 2.5228594259389\n\\item -0.673958720248895\n\\end{enumerate*}\n",
            "text/markdown": "1. &lt;NA&gt;\n2. &lt;NA&gt;\n3. -0.0915874369747139\n4. &lt;NA&gt;\n5. 2.5228594259389\n6. -0.673958720248895\n\n\n",
            "text/html": [
              "<style>\n",
              ".list-inline {list-style: none; margin:0; padding: 0}\n",
              ".list-inline>li {display: inline-block}\n",
              ".list-inline>li:not(:last-child)::after {content: \"\\00b7\"; padding: 0 .5ex}\n",
              "</style>\n",
              "<ol class=list-inline><li>&lt;NA&gt;</li><li>&lt;NA&gt;</li><li>-0.0915874369747139</li><li>&lt;NA&gt;</li><li>2.5228594259389</li><li>-0.673958720248895</li></ol>\n"
            ]
          },
          "metadata": {
            "tags": []
          }
        }
      ]
    },
    {
      "cell_type": "markdown",
      "metadata": {
        "id": "j83gQFa59qhu"
      },
      "source": [
        "5. Count NAs in vector x and y"
      ]
    },
    {
      "cell_type": "code",
      "metadata": {
        "colab": {
          "base_uri": "https://localhost:8080/",
          "height": 52
        },
        "id": "QSCJfK33-F10",
        "outputId": "512b9139-6e89-4307-b9fc-60fbcebf42df"
      },
      "source": [
        "sum(is.na(x))\r\n",
        "sum(is.na(y))\r\n"
      ],
      "execution_count": 16,
      "outputs": [
        {
          "output_type": "display_data",
          "data": {
            "text/plain": [
              "[1] 11"
            ],
            "text/latex": "11",
            "text/markdown": "11",
            "text/html": [
              "11"
            ]
          },
          "metadata": {
            "tags": []
          }
        },
        {
          "output_type": "display_data",
          "data": {
            "text/plain": [
              "[1] 3"
            ],
            "text/latex": "3",
            "text/markdown": "3",
            "text/html": [
              "3"
            ]
          },
          "metadata": {
            "tags": []
          }
        }
      ]
    }
  ]
}